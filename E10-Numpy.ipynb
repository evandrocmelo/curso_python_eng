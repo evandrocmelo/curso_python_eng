{
 "cells": [
  {
   "cell_type": "code",
   "execution_count": 1,
   "id": "7a1bf221",
   "metadata": {},
   "outputs": [
    {
     "name": "stdout",
     "output_type": "stream",
     "text": [
      "Média: 22.35\n",
      "Máxima: 24.0\n"
     ]
    }
   ],
   "source": [
    "# Importar biblioteca numpy\n",
    "import numpy as np\n",
    "# Passo 1: Criar array com dados de sensores:\n",
    "temperaturas = np.array([22.5, 24.0, 19.8, 23.1])  \n",
    "# Passo 2: Calcular estatísticas básicas:\n",
    "print(\"Média:\", temperaturas.mean())  \n",
    "print(\"Máxima:\", temperaturas.max())  "
   ]
  },
  {
   "cell_type": "code",
   "execution_count": 2,
   "id": "51c7cd03",
   "metadata": {},
   "outputs": [
    {
     "name": "stdout",
     "output_type": "stream",
     "text": [
      "Média: 6.333333333333333\n",
      "Amostras ácidas: [6.2 5.8]\n"
     ]
    }
   ],
   "source": [
    "ph_solo = np.array([6.2, 5.8, 7.0])  \n",
    "print(\"Média:\", ph_solo.mean())  \n",
    "print(\"Amostras ácidas:\", ph_solo[ph_solo < 7.0])  "
   ]
  }
 ],
 "metadata": {
  "kernelspec": {
   "display_name": "Python 3",
   "language": "python",
   "name": "python3"
  },
  "language_info": {
   "codemirror_mode": {
    "name": "ipython",
    "version": 3
   },
   "file_extension": ".py",
   "mimetype": "text/x-python",
   "name": "python",
   "nbconvert_exporter": "python",
   "pygments_lexer": "ipython3",
   "version": "3.13.4"
  }
 },
 "nbformat": 4,
 "nbformat_minor": 5
}
