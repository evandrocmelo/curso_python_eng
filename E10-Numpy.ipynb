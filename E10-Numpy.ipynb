{
 "cells": [
  {
   "cell_type": "code",
   "execution_count": 3,
   "id": "c35eaf09",
   "metadata": {},
   "outputs": [
    {
     "name": "stdout",
     "output_type": "stream",
     "text": [
      "Média: 22.099999999999998\n"
     ]
    }
   ],
   "source": [
    "import numpy as np  \n",
    "temperatura = np.array([22.5, 24.0, 19.8])  \n",
    "print(\"Média:\", temperatura.mean())  "
   ]
  },
  {
   "cell_type": "code",
   "execution_count": 4,
   "id": "334d6ca9",
   "metadata": {},
   "outputs": [
    {
     "name": "stdout",
     "output_type": "stream",
     "text": [
      "Umidade média: 12.699999999999998\n"
     ]
    }
   ],
   "source": [
    "umidade_solo = np.array([12.3, 15.6, 10.2])  \n",
    "print(\"Umidade média:\", umidade_solo.mean())  "
   ]
  },
  {
   "cell_type": "code",
   "execution_count": 5,
   "id": "b0fcddeb",
   "metadata": {},
   "outputs": [],
   "source": [
    "import numpy as np  \n",
    "dados_solo = np.array([12.3, 15.6, 10.2])  # Umidade do solo (%)  "
   ]
  },
  {
   "cell_type": "code",
   "execution_count": 6,
   "id": "74e9930c",
   "metadata": {},
   "outputs": [],
   "source": [
    "produtividade = np.array([5.2, 6.1, 4.8])  # toneladas/hectare  \n",
    "ajuste = produtividade * 1.1  # Aumento de 10%  "
   ]
  },
  {
   "cell_type": "code",
   "execution_count": 7,
   "id": "c40660b3",
   "metadata": {},
   "outputs": [
    {
     "name": "stdout",
     "output_type": "stream",
     "text": [
      "Média: 6.333333333333333\n",
      "Amostras ácidas: [6.2 5.8]\n"
     ]
    }
   ],
   "source": [
    "ph_solo = np.array([6.2, 5.8, 7.0])  \n",
    "print(\"Média:\", ph_solo.mean())  \n",
    "print(\"Amostras ácidas:\", ph_solo[ph_solo < 7.0])  "
   ]
  },
  {
   "cell_type": "code",
   "execution_count": 8,
   "id": "edc47814",
   "metadata": {},
   "outputs": [],
   "source": [
    "dados_parcelas = np.array([[1.2, 1.5], [1.3, 1.4]])  # 2x2  \n",
    "dados_linha = dados_parcelas.flatten()  # [1.2, 1.5, 1.3, 1.4]  "
   ]
  },
  {
   "cell_type": "code",
   "execution_count": 9,
   "id": "7a1bf221",
   "metadata": {},
   "outputs": [
    {
     "name": "stdout",
     "output_type": "stream",
     "text": [
      "Média: 22.35\n",
      "Máxima: 24.0\n"
     ]
    }
   ],
   "source": [
    "# Importar biblioteca numpy\n",
    "import numpy as np\n",
    "# Passo 1: Criar array com dados de sensores:\n",
    "temperaturas = np.array([22.5, 24.0, 19.8, 23.1])  \n",
    "# Passo 2: Calcular estatísticas básicas:\n",
    "print(\"Média:\", temperaturas.mean())  \n",
    "print(\"Máxima:\", temperaturas.max())  "
   ]
  },
  {
   "cell_type": "code",
   "execution_count": 10,
   "id": "51c7cd03",
   "metadata": {},
   "outputs": [
    {
     "name": "stdout",
     "output_type": "stream",
     "text": [
      "Média: 6.333333333333333\n",
      "Amostras ácidas: [6.2 5.8]\n"
     ]
    }
   ],
   "source": [
    "ph_solo = np.array([6.2, 5.8, 7.0])  \n",
    "print(\"Média:\", ph_solo.mean())  \n",
    "print(\"Amostras ácidas:\", ph_solo[ph_solo < 7.0])  "
   ]
  }
 ],
 "metadata": {
  "kernelspec": {
   "display_name": "Python 3",
   "language": "python",
   "name": "python3"
  },
  "language_info": {
   "codemirror_mode": {
    "name": "ipython",
    "version": 3
   },
   "file_extension": ".py",
   "mimetype": "text/x-python",
   "name": "python",
   "nbconvert_exporter": "python",
   "pygments_lexer": "ipython3",
   "version": "3.13.4"
  }
 },
 "nbformat": 4,
 "nbformat_minor": 5
}
